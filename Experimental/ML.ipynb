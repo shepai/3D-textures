{
 "cells": [
  {
   "attachments": {},
   "cell_type": "markdown",
   "metadata": {},
   "source": [
    "# Experiments using classifiers to evaluate teh affectivness of the models\n",
    "\n",
    "## Section A - Dataset configuration"
   ]
  },
  {
   "cell_type": "code",
   "execution_count": 2,
   "metadata": {},
   "outputs": [
    {
     "name": "stdout",
     "output_type": "stream",
     "text": [
      "Downloading from https://www.kaggle.com/api/v1/datasets/download/dextershepherd/3d-printed-tactile-dataset-tactip-readings?dataset_version_number=2...\n"
     ]
    },
    {
     "name": "stderr",
     "output_type": "stream",
     "text": [
      "100%|██████████| 454M/454M [00:10<00:00, 45.3MB/s] "
     ]
    },
    {
     "name": "stdout",
     "output_type": "stream",
     "text": [
      "Extracting files...\n"
     ]
    },
    {
     "name": "stderr",
     "output_type": "stream",
     "text": [
      "\n"
     ]
    },
    {
     "name": "stdout",
     "output_type": "stream",
     "text": [
      "/its/home/drs25/.cache/kagglehub/datasets/dextershepherd/3d-printed-tactile-dataset-tactip-readings/versions/2\n"
     ]
    }
   ],
   "source": [
    "import numpy as np \n",
    "import kagglehub\n",
    "\n",
    "pathA = kagglehub.dataset_download(\"dextershepherd/3d-printed-tactile-dataset-tactip-readings\")\n",
    "print(pathA)\n"
   ]
  },
  {
   "cell_type": "code",
   "execution_count": 1,
   "metadata": {},
   "outputs": [
    {
     "name": "stderr",
     "output_type": "stream",
     "text": [
      "/its/home/drs25/miniconda3/lib/python3.10/site-packages/pandas/core/arrays/masked.py:60: UserWarning: Pandas requires version '1.3.6' or newer of 'bottleneck' (version '1.3.5' currently installed).\n",
      "  from pandas.core import (\n"
     ]
    }
   ],
   "source": [
    "datapath=\"/its/home/drs25/.cache/kagglehub/datasets/dextershepherd/3d-printed-tactile-dataset-tactip-readings/versions/2\"\n",
    "import os \n",
    "import pandas as pd \n",
    "import numpy as np\n",
    "files=os.listdir(datapath)\n",
    "print(files)\n",
    "dataset= pd.DataFrame({\n",
    "    'Index':[],\n",
    "    'Filament':[],\n",
    "    'Pattern':[],\n",
    "    'Printer':[],\n",
    "    \"Pressure\":[]\n",
    "})\n",
    "X=[]\n",
    "idx=0\n",
    "for i,file in enumerate(files):\n",
    "    data=np.load(datapath+\"/\"+file)\n",
    "    info=file.replace(\".npy\",\"\").split(\"_\")\n",
    "    data=data.reshape((1*2*5*5,480,640,3))\n",
    "    for image in data:\n",
    "        gray = np.dot(image[..., :3], [0.2989, 0.5870, 0.1140])\n",
    "        X.append(gray)\n",
    "        new_row = pd.DataFrame([{\n",
    "        'Index': int(idx),\n",
    "        'Filament': info[0],\n",
    "        'Pattern': info[1],\n",
    "        'Printer': info[3],\n",
    "        'Pressure': info[2]\n",
    "    }])\n",
    "        idx+=1\n",
    "    dataset = pd.concat([dataset, new_row], ignore_index=True)\n",
    "\n",
    "dataset.head()\n",
    "X=np.array(X)\n",
    "np.save(\"/its/home/drs25/Documents/GitHub/3D-textures/Experimental/data/images\",X)\n",
    "dataset.to_csv(\"/its/home/drs25/Documents/GitHub/3D-textures/Experimental/data/meta\")"
   ]
  },
  {
   "cell_type": "code",
   "execution_count": 3,
   "metadata": {},
   "outputs": [
    {
     "data": {
      "text/html": [
       "<div>\n",
       "<style scoped>\n",
       "    .dataframe tbody tr th:only-of-type {\n",
       "        vertical-align: middle;\n",
       "    }\n",
       "\n",
       "    .dataframe tbody tr th {\n",
       "        vertical-align: top;\n",
       "    }\n",
       "\n",
       "    .dataframe thead th {\n",
       "        text-align: right;\n",
       "    }\n",
       "</style>\n",
       "<table border=\"1\" class=\"dataframe\">\n",
       "  <thead>\n",
       "    <tr style=\"text-align: right;\">\n",
       "      <th></th>\n",
       "      <th>Index</th>\n",
       "      <th>Filament</th>\n",
       "      <th>Pattern</th>\n",
       "      <th>Printer</th>\n",
       "      <th>Pressure</th>\n",
       "    </tr>\n",
       "  </thead>\n",
       "  <tbody>\n",
       "    <tr>\n",
       "      <th>0</th>\n",
       "      <td>49.0</td>\n",
       "      <td>PLAminus</td>\n",
       "      <td>z4</td>\n",
       "      <td>P50</td>\n",
       "      <td>creality.npy</td>\n",
       "    </tr>\n",
       "    <tr>\n",
       "      <th>1</th>\n",
       "      <td>99.0</td>\n",
       "      <td>PLAminus</td>\n",
       "      <td>z5</td>\n",
       "      <td>P40</td>\n",
       "      <td>creality.npy</td>\n",
       "    </tr>\n",
       "    <tr>\n",
       "      <th>2</th>\n",
       "      <td>149.0</td>\n",
       "      <td>PLAminus</td>\n",
       "      <td>z0</td>\n",
       "      <td>P50</td>\n",
       "      <td>creality.npy</td>\n",
       "    </tr>\n",
       "    <tr>\n",
       "      <th>3</th>\n",
       "      <td>199.0</td>\n",
       "      <td>PLAminus</td>\n",
       "      <td>z4</td>\n",
       "      <td>P40</td>\n",
       "      <td>creality.npy</td>\n",
       "    </tr>\n",
       "    <tr>\n",
       "      <th>4</th>\n",
       "      <td>249.0</td>\n",
       "      <td>PLAminus</td>\n",
       "      <td>z2</td>\n",
       "      <td>P50</td>\n",
       "      <td>creality.npy</td>\n",
       "    </tr>\n",
       "  </tbody>\n",
       "</table>\n",
       "</div>"
      ],
      "text/plain": [
       "   Index  Filament Pattern Printer      Pressure\n",
       "0   49.0  PLAminus      z4     P50  creality.npy\n",
       "1   99.0  PLAminus      z5     P40  creality.npy\n",
       "2  149.0  PLAminus      z0     P50  creality.npy\n",
       "3  199.0  PLAminus      z4     P40  creality.npy\n",
       "4  249.0  PLAminus      z2     P50  creality.npy"
      ]
     },
     "execution_count": 3,
     "metadata": {},
     "output_type": "execute_result"
    }
   ],
   "source": [
    "dataset.head()"
   ]
  },
  {
   "attachments": {},
   "cell_type": "markdown",
   "metadata": {},
   "source": [
    "## Section B - modelling"
   ]
  },
  {
   "cell_type": "code",
   "execution_count": null,
   "metadata": {},
   "outputs": [],
   "source": [
    "import numpy as np\n",
    "X=np.load(\"/its/home/drs25/Documents/GitHub/3D-textures/Experimental/data/images.npyX\")\n",
    "dataset=pd.read_csv(\"/its/home/drs25/Documents/GitHub/3D-textures/Experimental/data/meta.csv\")\n",
    "print(\"Dataset size:\",X.shape)\n",
    "dataset.head()"
   ]
  },
  {
   "attachments": {},
   "cell_type": "markdown",
   "metadata": {},
   "source": [
    "### Prediction across classes"
   ]
  },
  {
   "cell_type": "code",
   "execution_count": 15,
   "metadata": {},
   "outputs": [
    {
     "name": "stdout",
     "output_type": "stream",
     "text": [
      "(18,) (18, 480, 640)\n"
     ]
    }
   ],
   "source": [
    "subset = dataset[(dataset['Filament'] == \"PLAminus\") & (dataset['Pressure'] == \"creality.npy\")]\n",
    "subX=[]\n",
    "y=[]\n",
    "for _, row in subset.iterrows():\n",
    "    # get the class label (e.g., from the 'Pattern' column)\n",
    "    y.append(int(row['Pattern'].replace(\"z\",\"\")))\n",
    "    # get the corresponding feature data (e.g., from column 14 to 25)\n",
    "    subX.append(X[int(row['Index'])])\n",
    "y=np.array(y)\n",
    "subX=np.array(subX)\n",
    "print(y.shape,subX.shape)\n",
    "\n",
    "#14 25 "
   ]
  },
  {
   "cell_type": "code",
   "execution_count": 16,
   "metadata": {},
   "outputs": [
    {
     "data": {
      "text/html": [
       "<div>\n",
       "<style scoped>\n",
       "    .dataframe tbody tr th:only-of-type {\n",
       "        vertical-align: middle;\n",
       "    }\n",
       "\n",
       "    .dataframe tbody tr th {\n",
       "        vertical-align: top;\n",
       "    }\n",
       "\n",
       "    .dataframe thead th {\n",
       "        text-align: right;\n",
       "    }\n",
       "</style>\n",
       "<table border=\"1\" class=\"dataframe\">\n",
       "  <thead>\n",
       "    <tr style=\"text-align: right;\">\n",
       "      <th></th>\n",
       "      <th>Index</th>\n",
       "      <th>Filament</th>\n",
       "      <th>Pattern</th>\n",
       "      <th>Printer</th>\n",
       "      <th>Pressure</th>\n",
       "    </tr>\n",
       "  </thead>\n",
       "  <tbody>\n",
       "    <tr>\n",
       "      <th>0</th>\n",
       "      <td>49.0</td>\n",
       "      <td>PLAminus</td>\n",
       "      <td>z4</td>\n",
       "      <td>P50</td>\n",
       "      <td>creality.npy</td>\n",
       "    </tr>\n",
       "    <tr>\n",
       "      <th>1</th>\n",
       "      <td>99.0</td>\n",
       "      <td>PLAminus</td>\n",
       "      <td>z5</td>\n",
       "      <td>P40</td>\n",
       "      <td>creality.npy</td>\n",
       "    </tr>\n",
       "    <tr>\n",
       "      <th>2</th>\n",
       "      <td>149.0</td>\n",
       "      <td>PLAminus</td>\n",
       "      <td>z0</td>\n",
       "      <td>P50</td>\n",
       "      <td>creality.npy</td>\n",
       "    </tr>\n",
       "    <tr>\n",
       "      <th>3</th>\n",
       "      <td>199.0</td>\n",
       "      <td>PLAminus</td>\n",
       "      <td>z4</td>\n",
       "      <td>P40</td>\n",
       "      <td>creality.npy</td>\n",
       "    </tr>\n",
       "    <tr>\n",
       "      <th>4</th>\n",
       "      <td>249.0</td>\n",
       "      <td>PLAminus</td>\n",
       "      <td>z2</td>\n",
       "      <td>P50</td>\n",
       "      <td>creality.npy</td>\n",
       "    </tr>\n",
       "    <tr>\n",
       "      <th>5</th>\n",
       "      <td>299.0</td>\n",
       "      <td>PLAminus</td>\n",
       "      <td>z3</td>\n",
       "      <td>P50</td>\n",
       "      <td>creality.npy</td>\n",
       "    </tr>\n",
       "    <tr>\n",
       "      <th>6</th>\n",
       "      <td>349.0</td>\n",
       "      <td>PLAminus</td>\n",
       "      <td>z2</td>\n",
       "      <td>P40</td>\n",
       "      <td>creality.npy</td>\n",
       "    </tr>\n",
       "    <tr>\n",
       "      <th>7</th>\n",
       "      <td>399.0</td>\n",
       "      <td>PLAminus</td>\n",
       "      <td>z1</td>\n",
       "      <td>P50</td>\n",
       "      <td>creality.npy</td>\n",
       "    </tr>\n",
       "    <tr>\n",
       "      <th>8</th>\n",
       "      <td>449.0</td>\n",
       "      <td>PLAminus</td>\n",
       "      <td>z0</td>\n",
       "      <td>P40</td>\n",
       "      <td>creality.npy</td>\n",
       "    </tr>\n",
       "    <tr>\n",
       "      <th>9</th>\n",
       "      <td>499.0</td>\n",
       "      <td>PLAminus</td>\n",
       "      <td>z5</td>\n",
       "      <td>P50</td>\n",
       "      <td>creality.npy</td>\n",
       "    </tr>\n",
       "    <tr>\n",
       "      <th>10</th>\n",
       "      <td>549.0</td>\n",
       "      <td>PLAminus</td>\n",
       "      <td>z5</td>\n",
       "      <td>P30</td>\n",
       "      <td>creality.npy</td>\n",
       "    </tr>\n",
       "    <tr>\n",
       "      <th>11</th>\n",
       "      <td>599.0</td>\n",
       "      <td>PLAminus</td>\n",
       "      <td>z0</td>\n",
       "      <td>P30</td>\n",
       "      <td>creality.npy</td>\n",
       "    </tr>\n",
       "    <tr>\n",
       "      <th>12</th>\n",
       "      <td>649.0</td>\n",
       "      <td>PLAminus</td>\n",
       "      <td>z3</td>\n",
       "      <td>P40</td>\n",
       "      <td>creality.npy</td>\n",
       "    </tr>\n",
       "    <tr>\n",
       "      <th>13</th>\n",
       "      <td>699.0</td>\n",
       "      <td>PLAminus</td>\n",
       "      <td>z3</td>\n",
       "      <td>P30</td>\n",
       "      <td>creality.npy</td>\n",
       "    </tr>\n",
       "    <tr>\n",
       "      <th>14</th>\n",
       "      <td>749.0</td>\n",
       "      <td>PLAminus</td>\n",
       "      <td>z1</td>\n",
       "      <td>P40</td>\n",
       "      <td>creality.npy</td>\n",
       "    </tr>\n",
       "    <tr>\n",
       "      <th>15</th>\n",
       "      <td>799.0</td>\n",
       "      <td>PLAminus</td>\n",
       "      <td>z1</td>\n",
       "      <td>P30</td>\n",
       "      <td>creality.npy</td>\n",
       "    </tr>\n",
       "    <tr>\n",
       "      <th>16</th>\n",
       "      <td>849.0</td>\n",
       "      <td>PLAminus</td>\n",
       "      <td>z2</td>\n",
       "      <td>P30</td>\n",
       "      <td>creality.npy</td>\n",
       "    </tr>\n",
       "    <tr>\n",
       "      <th>17</th>\n",
       "      <td>899.0</td>\n",
       "      <td>PLAminus</td>\n",
       "      <td>z4</td>\n",
       "      <td>P30</td>\n",
       "      <td>creality.npy</td>\n",
       "    </tr>\n",
       "  </tbody>\n",
       "</table>\n",
       "</div>"
      ],
      "text/plain": [
       "    Index  Filament Pattern Printer      Pressure\n",
       "0    49.0  PLAminus      z4     P50  creality.npy\n",
       "1    99.0  PLAminus      z5     P40  creality.npy\n",
       "2   149.0  PLAminus      z0     P50  creality.npy\n",
       "3   199.0  PLAminus      z4     P40  creality.npy\n",
       "4   249.0  PLAminus      z2     P50  creality.npy\n",
       "5   299.0  PLAminus      z3     P50  creality.npy\n",
       "6   349.0  PLAminus      z2     P40  creality.npy\n",
       "7   399.0  PLAminus      z1     P50  creality.npy\n",
       "8   449.0  PLAminus      z0     P40  creality.npy\n",
       "9   499.0  PLAminus      z5     P50  creality.npy\n",
       "10  549.0  PLAminus      z5     P30  creality.npy\n",
       "11  599.0  PLAminus      z0     P30  creality.npy\n",
       "12  649.0  PLAminus      z3     P40  creality.npy\n",
       "13  699.0  PLAminus      z3     P30  creality.npy\n",
       "14  749.0  PLAminus      z1     P40  creality.npy\n",
       "15  799.0  PLAminus      z1     P30  creality.npy\n",
       "16  849.0  PLAminus      z2     P30  creality.npy\n",
       "17  899.0  PLAminus      z4     P30  creality.npy"
      ]
     },
     "execution_count": 16,
     "metadata": {},
     "output_type": "execute_result"
    }
   ],
   "source": [
    "dataset"
   ]
  }
 ],
 "metadata": {
  "kernelspec": {
   "display_name": "base",
   "language": "python",
   "name": "python3"
  },
  "language_info": {
   "codemirror_mode": {
    "name": "ipython",
    "version": 3
   },
   "file_extension": ".py",
   "mimetype": "text/x-python",
   "name": "python",
   "nbconvert_exporter": "python",
   "pygments_lexer": "ipython3",
   "version": "3.10.8"
  },
  "orig_nbformat": 4
 },
 "nbformat": 4,
 "nbformat_minor": 2
}
