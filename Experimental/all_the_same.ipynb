{
 "cells": [
  {
   "cell_type": "code",
   "execution_count": 13,
   "metadata": {},
   "outputs": [],
   "source": [
    "# load in lirbaries\n",
    "import numpy as np \n",
    "import pandas as pd \n",
    "import cv2 \n",
    "import os"
   ]
  },
  {
   "attachments": {},
   "cell_type": "markdown",
   "metadata": {},
   "source": [
    "### download"
   ]
  },
  {
   "cell_type": "code",
   "execution_count": 14,
   "metadata": {},
   "outputs": [
    {
     "name": "stdout",
     "output_type": "stream",
     "text": [
      "Warning: Looks like you're using an outdated `kagglehub` version (installed: 0.3.12), please consider upgrading to the latest version (0.3.13).\n",
      "Downloading from https://www.kaggle.com/api/v1/datasets/download/dextershepherd/repetative-3d-printed-dataset-bambu?dataset_version_number=1...\n"
     ]
    },
    {
     "name": "stderr",
     "output_type": "stream",
     "text": [
      "100%|██████████| 984M/984M [00:20<00:00, 49.5MB/s] "
     ]
    },
    {
     "name": "stdout",
     "output_type": "stream",
     "text": [
      "Extracting files...\n"
     ]
    },
    {
     "name": "stderr",
     "output_type": "stream",
     "text": [
      "\n"
     ]
    },
    {
     "name": "stdout",
     "output_type": "stream",
     "text": [
      ">>>>>>>>>> /its/home/drs25/.cache/kagglehub/datasets/dextershepherd/repetative-3d-printed-dataset-bambu/versions/1\n",
      "Contents of /mnt/data0/drs25/data/same/ removed, folder kept.\n",
      "PLAminus_z0.1_P30_bambu.npy (50, 480, 640, 3)\n",
      "PLAminus_z0.2_P30_bambu.npy (50, 480, 640, 3)\n",
      "PLAminus_z0.3_P30_bambu.npy (50, 480, 640, 3)\n",
      "PLAminus_z0.4_P30_bambu.npy (50, 480, 640, 3)\n",
      "PLAminus_z0.5_P30_bambu.npy (50, 480, 640, 3)\n",
      "PLAminus_z0.6_P30_bambu.npy (50, 480, 640, 3)\n",
      "PLAminus_z1.1_P30_bambu.npy (50, 480, 640, 3)\n",
      "PLAminus_z1.2_P30_bambu.npy (50, 480, 640, 3)\n",
      "PLAminus_z1.3_P30_bambu.npy (50, 480, 640, 3)\n",
      "PLAminus_z1.4_P30_bambu.npy (50, 480, 640, 3)\n",
      "PLAminus_z1.5_P30_bambu.npy (50, 480, 640, 3)\n",
      "PLAminus_z1.6_P30_bambu.npy (50, 480, 640, 3)\n",
      "PLAminus_z2.1_P30_bambu.npy (50, 480, 640, 3)\n",
      "PLAminus_z2.2_P30_bambu.npy (50, 480, 640, 3)\n",
      "PLAminus_z2.3_P30_bambu.npy (50, 480, 640, 3)\n",
      "PLAminus_z2.4_P30_bambu.npy (50, 480, 640, 3)\n",
      "PLAminus_z2.5_P30_bambu.npy (50, 480, 640, 3)\n",
      "PLAminus_z2.6_P30_bambu.npy (50, 480, 640, 3)\n",
      "PLAminus_z3.1_P30_bambu.npy (50, 480, 640, 3)\n",
      "PLAminus_z3.2_P30_bambu.npy (50, 480, 640, 3)\n",
      "PLAminus_z3.3_P30_bambu.npy (50, 480, 640, 3)\n",
      "PLAminus_z3.4_P30_bambu.npy (50, 480, 640, 3)\n",
      "PLAminus_z3.5_P30_bambu.npy (50, 480, 640, 3)\n",
      "PLAminus_z3.6_P30_bambu.npy (50, 480, 640, 3)\n",
      "PLAminus_z4.1_P30_bambu.npy (50, 480, 640, 3)\n",
      "PLAminus_z4.2_P30_bambu.npy (50, 480, 640, 3)\n",
      "PLAminus_z4.3_P30_bambu.npy (50, 480, 640, 3)\n",
      "PLAminus_z4.4_P30_bambu.npy (50, 480, 640, 3)\n",
      "PLAminus_z4.5_P30_bambu.npy (50, 480, 640, 3)\n",
      "PLAminus_z4.6_P30_bambu.npy (50, 480, 640, 3)\n",
      "PLAminus_z5.1_P30_bambu.npy (50, 480, 640, 3)\n",
      "PLAminus_z5.2_P30_bambu.npy (50, 480, 640, 3)\n",
      "PLAminus_z5.3_P30_bambu.npy (50, 480, 640, 3)\n",
      "PLAminus_z5.4_P30_bambu.npy (50, 480, 640, 3)\n",
      "PLAminus_z5.5_P30_bambu.npy (50, 480, 640, 3)\n",
      "PLAminus_z5.6_P30_bambu.npy (50, 480, 640, 3)\n",
      "(1800, 1, 192, 256) 1800\n"
     ]
    }
   ],
   "source": [
    "#download the data\n",
    "import kagglehub\n",
    "pathA = kagglehub.dataset_download(\"dextershepherd/repetative-3d-printed-dataset-bambu\")\n",
    "print(\">>>>>>>>>>\",pathA)\n",
    "import subprocess\n",
    "import shutil\n",
    "path=\"/mnt/data0/drs25/data/same/\"\n",
    "if os.path.isdir(path):\n",
    "    # Remove everything inside, but keep the folder itself\n",
    "    for item in os.listdir(path):\n",
    "        item_path = os.path.join(path, item)\n",
    "        if os.path.isfile(item_path) or os.path.islink(item_path):\n",
    "            os.unlink(item_path)  # remove file or symlink\n",
    "        elif os.path.isdir(item_path):\n",
    "            shutil.rmtree(item_path)  # remove directory\n",
    "    print(f\"Contents of {path} removed, folder kept.\")\n",
    "else:\n",
    "    print(f\"{path} is not a directory.\")\n",
    "result = subprocess.run([\"mv\", pathA, \"/mnt/data0/drs25/data/same/\"], capture_output=True, text=True)\n",
    "pathA=\"/mnt/data0/drs25/data/same/\"+str(pathA.split(\"/\")[-1])+\"/\"\n",
    "datapath=pathA\n",
    "import os \n",
    "files=os.listdir(datapath)\n",
    "dataset= pd.DataFrame({\n",
    "    'Index':[],\n",
    "    'Filament':[],\n",
    "    'Pattern':[],\n",
    "    'Printer':[],\n",
    "    \"Pressure\":[]\n",
    "})\n",
    "X=[]\n",
    "idx=0\n",
    "percentage=0.4\n",
    "for i,file in enumerate(files):\n",
    "    data=np.load(datapath+\"/\"+file)\n",
    "    info=file.replace(\".npy\",\"\").split(\"_\")\n",
    "    data=data.reshape((1*2*5*5,480,640,3))\n",
    "    print(file,data.shape)\n",
    "    for image in data:\n",
    "        gray = np.dot(image[..., :3], [0.2989, 0.5870, 0.1140])\n",
    "        h=int(image.shape[0]*percentage)\n",
    "        w=int(image.shape[1]*percentage)\n",
    "        gray = cv2.resize(gray,(w,h),interpolation=cv2.INTER_AREA)\n",
    "        X.append(gray)\n",
    "        new_row = pd.DataFrame([{\n",
    "        'Index': int(idx),\n",
    "        'Filament': info[0],\n",
    "        'Pattern': info[1],\n",
    "        'Printer': info[3],\n",
    "        'Pressure': info[2]\n",
    "    }])\n",
    "        idx+=1\n",
    "        dataset = pd.concat([dataset, new_row], ignore_index=True)\n",
    "\n",
    "dataset.head()\n",
    "X=np.array(X).reshape(len(X),1,h,w)\n",
    "np.save(\"/mnt/data0/drs25/data/optical-tactile-dataset-for-textures/3DPrinted_same2\",X)\n",
    "dataset.to_csv(\"/its/home/drs25/3D-textures/Experimental/data/meta3DPrinted_same2.csv\")\n",
    "print(X.shape,len(dataset))"
   ]
  },
  {
   "attachments": {},
   "cell_type": "markdown",
   "metadata": {},
   "source": [
    "### load in"
   ]
  },
  {
   "cell_type": "code",
   "execution_count": 15,
   "metadata": {},
   "outputs": [
    {
     "name": "stdout",
     "output_type": "stream",
     "text": [
      "Dataset size: (1800, 1, 192, 256)\n",
      "1 1\n"
     ]
    },
    {
     "name": "stderr",
     "output_type": "stream",
     "text": [
      "/tmp/ipykernel_1205289/1350668727.py:6: FutureWarning: DataFrame.applymap has been deprecated. Use DataFrame.map instead.\n",
      "  dataset = dataset.applymap(lambda s: s.lower() if isinstance(s, str) else s)\n"
     ]
    },
    {
     "data": {
      "text/html": [
       "<div>\n",
       "<style scoped>\n",
       "    .dataframe tbody tr th:only-of-type {\n",
       "        vertical-align: middle;\n",
       "    }\n",
       "\n",
       "    .dataframe tbody tr th {\n",
       "        vertical-align: top;\n",
       "    }\n",
       "\n",
       "    .dataframe thead th {\n",
       "        text-align: right;\n",
       "    }\n",
       "</style>\n",
       "<table border=\"1\" class=\"dataframe\">\n",
       "  <thead>\n",
       "    <tr style=\"text-align: right;\">\n",
       "      <th></th>\n",
       "      <th>Unnamed: 0</th>\n",
       "      <th>Index</th>\n",
       "      <th>Filament</th>\n",
       "      <th>Pattern</th>\n",
       "      <th>Printer</th>\n",
       "      <th>Pressure</th>\n",
       "    </tr>\n",
       "  </thead>\n",
       "  <tbody>\n",
       "    <tr>\n",
       "      <th>0</th>\n",
       "      <td>0</td>\n",
       "      <td>0.0</td>\n",
       "      <td>plaminus</td>\n",
       "      <td>z0.1</td>\n",
       "      <td>bambu</td>\n",
       "      <td>p30</td>\n",
       "    </tr>\n",
       "    <tr>\n",
       "      <th>1</th>\n",
       "      <td>1</td>\n",
       "      <td>1.0</td>\n",
       "      <td>plaminus</td>\n",
       "      <td>z0.1</td>\n",
       "      <td>bambu</td>\n",
       "      <td>p30</td>\n",
       "    </tr>\n",
       "    <tr>\n",
       "      <th>2</th>\n",
       "      <td>2</td>\n",
       "      <td>2.0</td>\n",
       "      <td>plaminus</td>\n",
       "      <td>z0.1</td>\n",
       "      <td>bambu</td>\n",
       "      <td>p30</td>\n",
       "    </tr>\n",
       "    <tr>\n",
       "      <th>3</th>\n",
       "      <td>3</td>\n",
       "      <td>3.0</td>\n",
       "      <td>plaminus</td>\n",
       "      <td>z0.1</td>\n",
       "      <td>bambu</td>\n",
       "      <td>p30</td>\n",
       "    </tr>\n",
       "    <tr>\n",
       "      <th>4</th>\n",
       "      <td>4</td>\n",
       "      <td>4.0</td>\n",
       "      <td>plaminus</td>\n",
       "      <td>z0.1</td>\n",
       "      <td>bambu</td>\n",
       "      <td>p30</td>\n",
       "    </tr>\n",
       "  </tbody>\n",
       "</table>\n",
       "</div>"
      ],
      "text/plain": [
       "   Unnamed: 0  Index  Filament Pattern Printer Pressure\n",
       "0           0    0.0  plaminus    z0.1   bambu      p30\n",
       "1           1    1.0  plaminus    z0.1   bambu      p30\n",
       "2           2    2.0  plaminus    z0.1   bambu      p30\n",
       "3           3    3.0  plaminus    z0.1   bambu      p30\n",
       "4           4    4.0  plaminus    z0.1   bambu      p30"
      ]
     },
     "execution_count": 15,
     "metadata": {},
     "output_type": "execute_result"
    }
   ],
   "source": [
    "#load in data\n",
    "X=np.load(\"/mnt/data0/drs25/data/optical-tactile-dataset-for-textures/3DPrinted_same2.npy\")\n",
    "dataset=pd.read_csv(\"/its/home/drs25/3D-textures/Experimental/data/meta3DPrinted_same2.csv\")\n",
    "print(\"Dataset size:\",X.shape)\n",
    "print(len(dataset['Filament'].unique()),len(dataset['Printer'].unique()))\n",
    "dataset = dataset.applymap(lambda s: s.lower() if isinstance(s, str) else s)\n",
    "dataset.head()\n"
   ]
  },
  {
   "cell_type": "code",
   "execution_count": 16,
   "metadata": {},
   "outputs": [
    {
     "name": "stdout",
     "output_type": "stream",
     "text": [
      "\n",
      "['z0.1' 'z0.2' 'z0.3' 'z0.4' 'z0.5' 'z0.6' 'z1.1' 'z1.2' 'z1.3' 'z1.4'\n",
      " 'z1.5' 'z1.6' 'z2.1' 'z2.2' 'z2.3' 'z2.4' 'z2.5' 'z2.6' 'z3.1' 'z3.2'\n",
      " 'z3.3' 'z3.4' 'z3.5' 'z3.6' 'z4.1' 'z4.2' 'z4.3' 'z4.4' 'z4.5' 'z4.6'\n",
      " 'z5.1' 'z5.2' 'z5.3' 'z5.4' 'z5.5' 'z5.6']\n",
      "['bambu']\n",
      "['p30']\n"
     ]
    }
   ],
   "source": [
    "print()\n",
    "print(dataset['Pattern'].unique())\n",
    "print(dataset['Printer'].unique())\n",
    "print(dataset['Pressure'].unique())\n"
   ]
  },
  {
   "attachments": {},
   "cell_type": "markdown",
   "metadata": {},
   "source": [
    "### select "
   ]
  },
  {
   "cell_type": "code",
   "execution_count": 17,
   "metadata": {},
   "outputs": [
    {
     "name": "stdout",
     "output_type": "stream",
     "text": [
      "(1, 1, 6)\n"
     ]
    }
   ],
   "source": [
    "matrix_variance_frames=np.zeros((len(dataset['Filament'].unique()),len(dataset['Printer'].unique()),6))\n",
    "\n",
    "for i,filament in enumerate(dataset['Filament'].unique()):\n",
    "    for j,printer in enumerate(dataset['Printer'].unique()):\n",
    "        for texture in range(6):\n",
    "            keys=[]\n",
    "            list_parts=[]\n",
    "            for n in range(0,5): #number of samples\n",
    "                if n==0:\n",
    "                    name=\"z\"+str(texture)#+\".\"+str(n)\n",
    "                else: \n",
    "                    name=\"z\"+str(texture)+\".\"+str(n)\n",
    "                #print(name)\n",
    "                z=dataset[(dataset['Pattern'] == name) & (dataset['Printer']==printer) & (dataset['Pressure']==\"p30\") & (dataset['Filament']==filament)]\n",
    "                indicies=np.array(z['Index']).astype(np.uint8)\n",
    "                frames=X[indicies]\n",
    "                if len(frames)>0:\n",
    "                    frames=frames.reshape((2,25,*frames.shape[2:]))\n",
    "                    list_parts.append(frames)\n",
    "\n",
    "            list_parts=np.array(list_parts)\n",
    "            #print samples, trials, frame position, image*\n",
    "            #print(list_parts.shape)\n",
    "            if list_parts.shape[0]>0:\n",
    "                ##############################\n",
    "                #Variance across same image\n",
    "                pixel_var = np.var(list_parts, axis=1)\n",
    "                avg_var = pixel_var.mean(axis=(0,1,2,3))\n",
    "                #print(avg_var)\n",
    "                matrix_variance_frames[i][j][texture]=avg_var\n",
    "                ###############################\n",
    "                #variance across texture\n",
    "                pixel_var = np.var(list_parts, axis=0)\n",
    "                avg_var = pixel_var.mean(axis=(0,1,2,3))\n",
    "                #print(avg_var)\n",
    "                \n",
    "\n",
    "print(matrix_variance_frames.shape)\n"
   ]
  },
  {
   "cell_type": "code",
   "execution_count": 18,
   "metadata": {},
   "outputs": [
    {
     "data": {
      "text/plain": [
       "array([2.80017674, 2.64039746, 3.61887302, 3.6796849 , 3.63699284,\n",
       "       3.51960279])"
      ]
     },
     "execution_count": 18,
     "metadata": {},
     "output_type": "execute_result"
    }
   ],
   "source": [
    "np.average(matrix_variance_frames,axis=[0,1])"
   ]
  },
  {
   "cell_type": "code",
   "execution_count": 19,
   "metadata": {},
   "outputs": [
    {
     "name": "stdout",
     "output_type": "stream",
     "text": [
      "(1, 1, 6, 6)\n"
     ]
    }
   ],
   "source": [
    "matrix_variance_pairs = np.zeros((len(dataset['Filament'].unique()), \n",
    "                                  len(dataset['Printer'].unique()), \n",
    "                                  6, 6))\n",
    "\n",
    "for i, filament in enumerate(dataset['Filament'].unique()):\n",
    "    for j, printer in enumerate(dataset['Printer'].unique()):\n",
    "        # collect mean image for each pattern\n",
    "        pattern_means = {}\n",
    "        for texture in range(6):\n",
    "            list_parts = []\n",
    "            for n in range(5): # number of samples\n",
    "                if n == 0:\n",
    "                    name = f\"z{texture}\"\n",
    "                else:\n",
    "                    name = f\"z{texture}.{n}\"\n",
    "\n",
    "                z = dataset[(dataset['Pattern'] == name) & \n",
    "                            (dataset['Printer'] == printer) & \n",
    "                            (dataset['Pressure'] == \"p30\") & \n",
    "                            (dataset['Filament'] == filament)]\n",
    "                indices = np.array(z['Index']).astype(np.uint8)\n",
    "                frames = X[indices]\n",
    "                if len(frames) > 0:\n",
    "                    frames = frames.reshape((2,25,*frames.shape[2:]))\n",
    "                    list_parts.append(frames)\n",
    "\n",
    "            if len(list_parts) > 0:\n",
    "                list_parts = np.array(list_parts)\n",
    "                pattern_means[texture] = list_parts.mean(axis=0)\n",
    "\n",
    "        # now compute pairwise variances\n",
    "        textures = list(pattern_means.keys())\n",
    "        for t1 in textures:\n",
    "            for t2 in textures:\n",
    "                if t1 != t2:\n",
    "                    diff = np.var(pattern_means[t1] - pattern_means[t2])\n",
    "                    matrix_variance_pairs[i, j, t1, t2] = diff\n",
    "\n",
    "print(matrix_variance_pairs.shape)  # (filaments, printers, 6, 6)"
   ]
  },
  {
   "cell_type": "code",
   "execution_count": 20,
   "metadata": {},
   "outputs": [
    {
     "data": {
      "image/png": "[encoded data removed]",
      "text/plain": [
       "<Figure size 640x480 with 2 Axes>"
      ]
     },
     "metadata": {},
     "output_type": "display_data"
    }
   ],
   "source": [
    "import matplotlib.pyplot as plt \n",
    "\n",
    "plt.imshow(matrix_variance_pairs[0][0],cmap=\"inferno\")\n",
    "plt.xticks([i for i in range(6)],[\"Texture \"+str(i+1) for i in range(6)],rotation=45)\n",
    "plt.yticks([i for i in range(6)],[\"Texture \"+str(i+1) for i in range(6)])\n",
    "\n",
    "plt.title(\"Map of variance per texture averaged over trials and blocks\")\n",
    "plt.colorbar()\n",
    "plt.tight_layout()\n",
    "plt.savefig(\"/its/home/drs25/3D-textures/assets/varianceMat.pdf\")\n",
    "plt.show()"
   ]
  },
  {
   "cell_type": "code",
   "execution_count": 21,
   "metadata": {},
   "outputs": [
    {
     "name": "stdout",
     "output_type": "stream",
     "text": [
      "(25, 192, 256)\n"
     ]
    },
    {
     "data": {
      "text/plain": [
       "np.float64(1.1607272038762195)"
      ]
     },
     "execution_count": 21,
     "metadata": {},
     "output_type": "execute_result"
    }
   ],
   "source": [
    "print(np.abs(frames[0]-frames[1]).shape)\n",
    "np.average(np.average(np.abs(frames[0]-frames[1]),axis=[1,2]))\n"
   ]
  },
  {
   "attachments": {},
   "cell_type": "markdown",
   "metadata": {},
   "source": [
    "## Classification of various same blocks"
   ]
  },
  {
   "cell_type": "code",
   "execution_count": 16,
   "metadata": {},
   "outputs": [],
   "source": [
    "import numpy as np \n",
    "import pandas as pd \n",
    "from sklearn.decomposition import PCA\n",
    "import matplotlib.pyplot as plt \n",
    "from sklearn.model_selection import train_test_split\n",
    "from sklearn.ensemble import RandomForestClassifier\n",
    "from sklearn.linear_model import LogisticRegression\n",
    "from sklearn.metrics import confusion_matrix, accuracy_score, ConfusionMatrixDisplay"
   ]
  },
  {
   "cell_type": "code",
   "execution_count": 62,
   "metadata": {},
   "outputs": [],
   "source": [
    "def get_data(dataset,X,num=-1,augment=False):\n",
    "    subset = dataset[((dataset['Printer'] == \"bambu\") & (dataset['Filament']==\"plaminus\")) ]\n",
    "    subX, y = [], []\n",
    "    for _, row in subset.iterrows():\n",
    "        image=X[_]\n",
    "        label=int(row['Pattern'].split(\".\")[0].replace(\"z\", \"\"))\n",
    "        if num==-1:\n",
    "            y.append(label)\n",
    "            subX.append(image)\n",
    "        else: \n",
    "            counter=int(row['Pattern'].split(\".\")[1])\n",
    "            if counter==num:\n",
    "                y.append(label)\n",
    "                subX.append(image)\n",
    "    subX,y=np.array(subX),np.array(y)\n",
    "    if augment:\n",
    "        noisy=subX+np.random.normal(0,5,subX.shape)\n",
    "        light=subX-10\n",
    "        dark=subX+10\n",
    "        light[light<0]=0\n",
    "        dark[dark>255]=255\n",
    "        subX=np.concatenate([subX,noisy,light,dark])\n",
    "        y=np.concatenate([y,y,y,y])\n",
    "    assert len(subX)==len(y) \n",
    "    return subX,y\n",
    "\n",
    "def coral_align_target_to_source(Xs, Xt, eps=1e-6):\n",
    "    # center\n",
    "    mu_s = Xs.mean(axis=0, keepdims=True)\n",
    "    mu_t = Xt.mean(axis=0, keepdims=True)\n",
    "    Xs_c = Xs - mu_s\n",
    "    Xt_c = Xt - mu_t\n",
    "\n",
    "    # covariances with small ridge\n",
    "    cov_s = np.cov(Xs_c, rowvar=False) + np.eye(Xs_c.shape[1]) * eps\n",
    "    cov_t = np.cov(Xt_c, rowvar=False) + np.eye(Xt_c.shape[1]) * eps\n",
    "\n",
    "    # matrix square-roots via SVD\n",
    "    Us, Ss, _ = np.linalg.svd(cov_s)\n",
    "    Ut, St, _ = np.linalg.svd(cov_t)\n",
    "    # cov_s^{1/2} and cov_t^{-1/2}\n",
    "    cov_s_sqrt = Us @ np.diag(np.sqrt(Ss)) @ Us.T\n",
    "    cov_t_inv_sqrt = Ut @ np.diag(1.0/np.sqrt(St)) @ Ut.T\n",
    "\n",
    "    # transform target: Xt_aligned = (Xt_c @ cov_t^{-1/2}) @ cov_s^{1/2} + mu_s\n",
    "    Xt_aligned = (Xt_c @ cov_t_inv_sqrt) @ cov_s_sqrt + mu_s\n",
    "    return Xt_aligned"
   ]
  },
  {
   "cell_type": "code",
   "execution_count": 37,
   "metadata": {},
   "outputs": [
    {
     "name": "stdout",
     "output_type": "stream",
     "text": [
      "Dataset size: (1800, 1, 192, 256)\n",
      "1 1\n"
     ]
    },
    {
     "name": "stderr",
     "output_type": "stream",
     "text": [
      "/tmp/ipykernel_1362469/1460015072.py:7: FutureWarning: DataFrame.applymap has been deprecated. Use DataFrame.map instead.\n",
      "  bambu_dataset = bambu_dataset.applymap(lambda s: s.lower() if isinstance(s, str) else s)\n",
      "/tmp/ipykernel_1362469/1460015072.py:11: FutureWarning: DataFrame.applymap has been deprecated. Use DataFrame.map instead.\n",
      "  dataset = dataset.applymap(lambda s: s.lower() if isinstance(s, str) else s)\n"
     ]
    }
   ],
   "source": [
    "#load in various datastes\n",
    "#select everything that is bambu \n",
    "bambu_X=np.load(\"/mnt/data0/drs25/data/optical-tactile-dataset-for-textures/3DPrinted_same2.npy\")\n",
    "bambu_dataset=pd.read_csv(\"/its/home/drs25/3D-textures/Experimental/data/meta3DPrinted_same2.csv\")\n",
    "print(\"Dataset size:\",bambu_X.shape)\n",
    "print(len(bambu_dataset['Filament'].unique()),len(bambu_dataset['Printer'].unique()))\n",
    "bambu_dataset = bambu_dataset.applymap(lambda s: s.lower() if isinstance(s, str) else s)\n",
    "\n",
    "X=np.load(\"/mnt/data0/drs25/data/optical-tactile-dataset-for-textures/3DPrintedXgel.npy\")\n",
    "dataset=pd.read_csv(\"/its/home/drs25/3D-textures/Experimental/data/metagel.csv\")\n",
    "dataset = dataset.applymap(lambda s: s.lower() if isinstance(s, str) else s)"
   ]
  },
  {
   "attachments": {},
   "cell_type": "markdown",
   "metadata": {},
   "source": [
    "#### with PCA"
   ]
  },
  {
   "cell_type": "code",
   "execution_count": 65,
   "metadata": {},
   "outputs": [
    {
     "name": "stdout",
     "output_type": "stream",
     "text": [
      "(500, 1, 192, 256) (1200, 1, 192, 256) (1800, 1, 192, 256) (500,) (1200,) (1800,)\n",
      "(500, 49152) (1200, 49152) (500,) (1200,)\n"
     ]
    }
   ],
   "source": [
    "\n",
    "X_,y_=get_data(dataset,X)\n",
    "X_2,y_2=get_data(bambu_dataset,bambu_X,num=1,augment=True)\n",
    "X_3,y_3=get_data(bambu_dataset,bambu_X)\n",
    "print(X_.shape,X_2.shape,X_3.shape,y_.shape,y_2.shape,y_3.shape)\n",
    "X_=X_.reshape((len(X_),-1))\n",
    "X_2=X_2.reshape((len(X_2),-1))\n",
    "X_3=X_3.reshape((len(X_3),-1))\n",
    "print(X_.shape,X_2.shape,y_.shape,y_2.shape)\n",
    "pca = PCA(n_components=25).fit(X_2)\n",
    "Z_train = pca.transform(X_2)  # (N,3)\n",
    "Z_test = pca.transform(X_)\n",
    "Z_test2 = pca.transform(X_3)\n",
    "Z_test = np.concatenate([Z_test,Z_test2])\n",
    "y_=np.concatenate([y_,y_3])\n",
    "#Z_test=coral_align_target_to_source(Z_train, Z_test)\n",
    "#selet just one and train classifier\n",
    "acc=np.zeros((20))\n",
    "for i in range(20):\n",
    "    clf = RandomForestClassifier(max_depth=100, random_state=np.random.randint(0,100))\n",
    "    clf.fit(Z_train, y_2)\n",
    "\n",
    "    # select all the others and test classifier\n",
    "    y_pred = clf.predict(Z_test)\n",
    "    accuracy = accuracy_score(y_, y_pred)\n",
    "    acc[i]=accuracy*100\n",
    "print(\"Test\",np.mean(acc), \"%\")"
   ]
  },
  {
   "attachments": {},
   "cell_type": "markdown",
   "metadata": {},
   "source": [
    "#### vis"
   ]
  },
  {
   "cell_type": "code",
   "execution_count": 54,
   "metadata": {},
   "outputs": [
    {
     "data": {
      "image/png": "[encoded data removed]",
      "text/plain": [
       "<Figure size 800x600 with 2 Axes>"
      ]
     },
     "metadata": {},
     "output_type": "display_data"
    }
   ],
   "source": [
    "cm = confusion_matrix(y_, y_pred, labels=np.unique(y_))\n",
    "class_labels = [\"Texture \"+str(i+1) for i in np.unique(y_)]\n",
    "\n",
    "# plot confusion matrix\n",
    "disp = ConfusionMatrixDisplay(confusion_matrix=cm, display_labels=class_labels)\n",
    "fig, ax = plt.subplots(figsize=(8,6))\n",
    "disp.plot(ax=ax, cmap=\"Blues\", colorbar=True)\n",
    "plt.title(\"Confusion Matrix\")\n",
    "plt.savefig(\"/its/home/drs25/3D-textures/assets/confusion_RFC_samePF.pdf\")\n",
    "plt.show()"
   ]
  }
 ],
 "metadata": {
  "kernelspec": {
   "display_name": "Python 3",
   "language": "python",
   "name": "python3"
  },
  "language_info": {
   "codemirror_mode": {
    "name": "ipython",
    "version": 3
   },
   "file_extension": ".py",
   "mimetype": "text/x-python",
   "name": "python",
   "nbconvert_exporter": "python",
   "pygments_lexer": "ipython3",
   "version": "3.10.12"
  },
  "orig_nbformat": 4
 },
 "nbformat": 4,
 "nbformat_minor": 2
}
