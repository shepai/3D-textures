{
 "cells": [
  {
   "cell_type": "code",
   "execution_count": 1,
   "metadata": {},
   "outputs": [],
   "source": [
    "# load in lirbaries\n",
    "import numpy as np \n",
    "import pandas as pd \n",
    "import cv2 "
   ]
  },
  {
   "attachments": {},
   "cell_type": "markdown",
   "metadata": {},
   "source": [
    "### download"
   ]
  },
  {
   "cell_type": "code",
   "execution_count": 6,
   "metadata": {},
   "outputs": [
    {
     "name": "stdout",
     "output_type": "stream",
     "text": [
      "Warning: Looks like you're using an outdated `kagglehub` version (installed: 0.3.12), please consider upgrading to the latest version (0.3.13).\n",
      ">>>>>>>>>> /its/home/drs25/.cache/kagglehub/datasets/dextershepherd/repetative-dataset/versions/1\n",
      "Contents of /mnt/data0/drs25/data/same/ removed, folder kept.\n",
      "PLAplus_z0.1_P30_ender.npy (50, 480, 640, 3)\n",
      "PLAplus_z0.2_P30_ender.npy (50, 480, 640, 3)\n",
      "PLAplus_z0.3_P30_ender.npy (50, 480, 640, 3)\n",
      "PLAplus_z0.4_P30_ender.npy (50, 480, 640, 3)\n",
      "PLAplus_z1.1_P30_ender.npy (50, 480, 640, 3)\n",
      "PLAplus_z1.2_P30_ender.npy (50, 480, 640, 3)\n",
      "PLAplus_z1.3_P30_ender.npy (50, 480, 640, 3)\n",
      "PLAplus_z1.4_P30_ender.npy (50, 480, 640, 3)\n",
      "PLAplus_z2.1_P30_ender.npy (50, 480, 640, 3)\n",
      "PLAplus_z2.2_P30_ender.npy (50, 480, 640, 3)\n",
      "PLAplus_z2.3_P30_ender.npy (50, 480, 640, 3)\n",
      "PLAplus_z2.4_P30_ender.npy (50, 480, 640, 3)\n",
      "PLAplus_z3.1_P30_ender.npy (50, 480, 640, 3)\n",
      "PLAplus_z3.2_P30_ender.npy (50, 480, 640, 3)\n",
      "PLAplus_z3.3_P30_ender.npy (50, 480, 640, 3)\n",
      "PLAplus_z3.4_P30_ender.npy (50, 480, 640, 3)\n",
      "PLAplus_z4.1_P30_ender.npy (50, 480, 640, 3)\n",
      "PLAplus_z4.2_P30_ender.npy (50, 480, 640, 3)\n",
      "PLAplus_z4.3_P30_ender.npy (50, 480, 640, 3)\n",
      "PLAplus_z4.4_P30_ender.npy (50, 480, 640, 3)\n",
      "PLAplus_z5.1_P30_ender.npy (50, 480, 640, 3)\n",
      "PLAplus_z5.2_P30_ender.npy (50, 480, 640, 3)\n",
      "PLAplus_z5.3_P30_ender.npy (50, 480, 640, 3)\n",
      "PLAplus_z5.4_P30_ender.npy (50, 480, 640, 3)\n",
      "PLAplus_z5.5_P30_ender.npy (50, 480, 640, 3)\n",
      "PLAplus_z5.6_P30_ender.npy (50, 480, 640, 3)\n",
      "(1300, 1, 192, 256) 1300\n"
     ]
    }
   ],
   "source": [
    "#download the data\n",
    "import kagglehub\n",
    "pathA = kagglehub.dataset_download(\"dextershepherd/repetative-dataset\")\n",
    "print(\">>>>>>>>>>\",pathA)\n",
    "import subprocess\n",
    "import shutil\n",
    "path=\"/mnt/data0/drs25/data/same/\"\n",
    "if os.path.isdir(path):\n",
    "    # Remove everything inside, but keep the folder itself\n",
    "    for item in os.listdir(path):\n",
    "        item_path = os.path.join(path, item)\n",
    "        if os.path.isfile(item_path) or os.path.islink(item_path):\n",
    "            os.unlink(item_path)  # remove file or symlink\n",
    "        elif os.path.isdir(item_path):\n",
    "            shutil.rmtree(item_path)  # remove directory\n",
    "    print(f\"Contents of {path} removed, folder kept.\")\n",
    "else:\n",
    "    print(f\"{path} is not a directory.\")\n",
    "result = subprocess.run([\"mv\", pathA, \"/mnt/data0/drs25/data/same/\"], capture_output=True, text=True)\n",
    "pathA=\"/mnt/data0/drs25/data/same/\"+str(pathA.split(\"/\")[-1])+\"/\"\n",
    "datapath=pathA\n",
    "import os \n",
    "files=os.listdir(datapath)\n",
    "dataset= pd.DataFrame({\n",
    "    'Index':[],\n",
    "    'Filament':[],\n",
    "    'Pattern':[],\n",
    "    'Printer':[],\n",
    "    \"Pressure\":[]\n",
    "})\n",
    "X=[]\n",
    "idx=0\n",
    "percentage=0.4\n",
    "for i,file in enumerate(files):\n",
    "    data=np.load(datapath+\"/\"+file)\n",
    "    info=file.replace(\".npy\",\"\").split(\"_\")\n",
    "    data=data.reshape((1*2*5*5,480,640,3))\n",
    "    print(file,data.shape)\n",
    "    for image in data:\n",
    "        gray = np.dot(image[..., :3], [0.2989, 0.5870, 0.1140])\n",
    "        h=int(image.shape[0]*percentage)\n",
    "        w=int(image.shape[1]*percentage)\n",
    "        gray = cv2.resize(gray,(w,h),interpolation=cv2.INTER_AREA)\n",
    "        X.append(gray)\n",
    "        new_row = pd.DataFrame([{\n",
    "        'Index': int(idx),\n",
    "        'Filament': info[0],\n",
    "        'Pattern': info[1],\n",
    "        'Printer': info[3],\n",
    "        'Pressure': info[2]\n",
    "    }])\n",
    "        idx+=1\n",
    "        dataset = pd.concat([dataset, new_row], ignore_index=True)\n",
    "\n",
    "dataset.head()\n",
    "X=np.array(X).reshape(len(X),1,h,w)\n",
    "np.save(\"/mnt/data0/drs25/data/optical-tactile-dataset-for-textures/3DPrinted_same\",X)\n",
    "dataset.to_csv(\"/its/home/drs25/3D-textures/Experimental/data/meta3DPrinted_same.csv\")\n",
    "print(X.shape,len(dataset))"
   ]
  },
  {
   "attachments": {},
   "cell_type": "markdown",
   "metadata": {},
   "source": [
    "### load in"
   ]
  },
  {
   "cell_type": "code",
   "execution_count": 70,
   "metadata": {},
   "outputs": [
    {
     "name": "stdout",
     "output_type": "stream",
     "text": [
      "Dataset size: (1300, 1, 192, 256)\n",
      "1 1\n"
     ]
    },
    {
     "name": "stderr",
     "output_type": "stream",
     "text": [
      "/tmp/ipykernel_326261/1244742636.py:6: FutureWarning: DataFrame.applymap has been deprecated. Use DataFrame.map instead.\n",
      "  dataset = dataset.applymap(lambda s: s.lower() if isinstance(s, str) else s)\n"
     ]
    },
    {
     "data": {
      "text/html": [
       "<div>\n",
       "<style scoped>\n",
       "    .dataframe tbody tr th:only-of-type {\n",
       "        vertical-align: middle;\n",
       "    }\n",
       "\n",
       "    .dataframe tbody tr th {\n",
       "        vertical-align: top;\n",
       "    }\n",
       "\n",
       "    .dataframe thead th {\n",
       "        text-align: right;\n",
       "    }\n",
       "</style>\n",
       "<table border=\"1\" class=\"dataframe\">\n",
       "  <thead>\n",
       "    <tr style=\"text-align: right;\">\n",
       "      <th></th>\n",
       "      <th>Unnamed: 0</th>\n",
       "      <th>Index</th>\n",
       "      <th>Filament</th>\n",
       "      <th>Pattern</th>\n",
       "      <th>Printer</th>\n",
       "      <th>Pressure</th>\n",
       "    </tr>\n",
       "  </thead>\n",
       "  <tbody>\n",
       "    <tr>\n",
       "      <th>0</th>\n",
       "      <td>0</td>\n",
       "      <td>0.0</td>\n",
       "      <td>plaplus</td>\n",
       "      <td>z0.1</td>\n",
       "      <td>ender</td>\n",
       "      <td>p30</td>\n",
       "    </tr>\n",
       "    <tr>\n",
       "      <th>1</th>\n",
       "      <td>1</td>\n",
       "      <td>1.0</td>\n",
       "      <td>plaplus</td>\n",
       "      <td>z0.1</td>\n",
       "      <td>ender</td>\n",
       "      <td>p30</td>\n",
       "    </tr>\n",
       "    <tr>\n",
       "      <th>2</th>\n",
       "      <td>2</td>\n",
       "      <td>2.0</td>\n",
       "      <td>plaplus</td>\n",
       "      <td>z0.1</td>\n",
       "      <td>ender</td>\n",
       "      <td>p30</td>\n",
       "    </tr>\n",
       "    <tr>\n",
       "      <th>3</th>\n",
       "      <td>3</td>\n",
       "      <td>3.0</td>\n",
       "      <td>plaplus</td>\n",
       "      <td>z0.1</td>\n",
       "      <td>ender</td>\n",
       "      <td>p30</td>\n",
       "    </tr>\n",
       "    <tr>\n",
       "      <th>4</th>\n",
       "      <td>4</td>\n",
       "      <td>4.0</td>\n",
       "      <td>plaplus</td>\n",
       "      <td>z0.1</td>\n",
       "      <td>ender</td>\n",
       "      <td>p30</td>\n",
       "    </tr>\n",
       "  </tbody>\n",
       "</table>\n",
       "</div>"
      ],
      "text/plain": [
       "   Unnamed: 0  Index Filament Pattern Printer Pressure\n",
       "0           0    0.0  plaplus    z0.1   ender      p30\n",
       "1           1    1.0  plaplus    z0.1   ender      p30\n",
       "2           2    2.0  plaplus    z0.1   ender      p30\n",
       "3           3    3.0  plaplus    z0.1   ender      p30\n",
       "4           4    4.0  plaplus    z0.1   ender      p30"
      ]
     },
     "execution_count": 70,
     "metadata": {},
     "output_type": "execute_result"
    }
   ],
   "source": [
    "#load in data\n",
    "X=np.load(\"/mnt/data0/drs25/data/optical-tactile-dataset-for-textures/3DPrinted_same.npy\")\n",
    "dataset=pd.read_csv(\"/its/home/drs25/3D-textures/Experimental/data/meta3DPrinted_same.csv\")\n",
    "print(\"Dataset size:\",X.shape)\n",
    "print(len(dataset['Filament'].unique()),len(dataset['Printer'].unique()))\n",
    "dataset = dataset.applymap(lambda s: s.lower() if isinstance(s, str) else s)\n",
    "dataset.head()\n"
   ]
  },
  {
   "cell_type": "code",
   "execution_count": 48,
   "metadata": {},
   "outputs": [
    {
     "name": "stdout",
     "output_type": "stream",
     "text": [
      "['plaminus' 'plaplus' 'petg' 'wood']\n",
      "['z0' 'z1' 'z2' 'z3' 'z4' 'z5']\n",
      "['bambu' 'ender' 'crealty' 'creality']\n",
      "['p30' 'p40']\n"
     ]
    }
   ],
   "source": [
    "print()\n",
    "print(dataset['Pattern'].unique())\n",
    "print(dataset['Printer'].unique())\n",
    "print(dataset['Pressure'].unique())\n"
   ]
  },
  {
   "attachments": {},
   "cell_type": "markdown",
   "metadata": {},
   "source": [
    "### select "
   ]
  },
  {
   "cell_type": "code",
   "execution_count": 73,
   "metadata": {},
   "outputs": [
    {
     "name": "stdout",
     "output_type": "stream",
     "text": [
      "(1, 1, 6)\n"
     ]
    }
   ],
   "source": [
    "matrix_variance_frames=np.zeros((len(dataset['Filament'].unique()),len(dataset['Printer'].unique()),6))\n",
    "\n",
    "for i,filament in enumerate(dataset['Filament'].unique()):\n",
    "    for j,printer in enumerate(dataset['Printer'].unique()):\n",
    "        for texture in range(6):\n",
    "            keys=[]\n",
    "            list_parts=[]\n",
    "            for n in range(0,5): #number of samples\n",
    "                if n==0:\n",
    "                    name=\"z\"+str(texture)#+\".\"+str(n)\n",
    "                else: \n",
    "                    name=\"z\"+str(texture)+\".\"+str(n)\n",
    "                #print(name)\n",
    "                z=dataset[(dataset['Pattern'] == name) & (dataset['Printer']==printer) & (dataset['Pressure']==\"p30\") & (dataset['Filament']==filament)]\n",
    "                indicies=np.array(z['Index']).astype(np.uint8)\n",
    "                frames=X[indicies]\n",
    "                if len(frames)>0:\n",
    "                    frames=frames.reshape((2,25,*frames.shape[2:]))\n",
    "                    list_parts.append(frames)\n",
    "\n",
    "            list_parts=np.array(list_parts)\n",
    "            #print samples, trials, frame position, image*\n",
    "            #print(list_parts.shape)\n",
    "            if list_parts.shape[0]>0:\n",
    "                ##############################\n",
    "                #Variance across same image\n",
    "                pixel_var = np.var(list_parts, axis=1)\n",
    "                avg_var = pixel_var.mean(axis=(0,1,2,3))\n",
    "                #print(avg_var)\n",
    "                matrix_variance_frames[i][j][texture]=avg_var\n",
    "                ###############################\n",
    "                #variance across texture\n",
    "                pixel_var = np.var(list_parts, axis=0)\n",
    "                avg_var = pixel_var.mean(axis=(0,1,2,3))\n",
    "                #print(avg_var)\n",
    "                \n",
    "\n",
    "print(matrix_variance_frames.shape)\n"
   ]
  },
  {
   "cell_type": "code",
   "execution_count": 74,
   "metadata": {},
   "outputs": [
    {
     "data": {
      "text/plain": [
       "array([2.60285569, 3.17648574, 4.09965838, 5.13349055, 4.62185786,\n",
       "       4.80114487])"
      ]
     },
     "execution_count": 74,
     "metadata": {},
     "output_type": "execute_result"
    }
   ],
   "source": [
    "np.average(matrix_variance_frames,axis=[0,1])"
   ]
  },
  {
   "cell_type": "code",
   "execution_count": 77,
   "metadata": {},
   "outputs": [
    {
     "name": "stdout",
     "output_type": "stream",
     "text": [
      "(1, 1, 6, 6)\n"
     ]
    }
   ],
   "source": [
    "matrix_variance_pairs = np.zeros((len(dataset['Filament'].unique()), \n",
    "                                  len(dataset['Printer'].unique()), \n",
    "                                  6, 6))\n",
    "\n",
    "for i, filament in enumerate(dataset['Filament'].unique()):\n",
    "    for j, printer in enumerate(dataset['Printer'].unique()):\n",
    "        # collect mean image for each pattern\n",
    "        pattern_means = {}\n",
    "        for texture in range(6):\n",
    "            list_parts = []\n",
    "            for n in range(5): # number of samples\n",
    "                if n == 0:\n",
    "                    name = f\"z{texture}\"\n",
    "                else:\n",
    "                    name = f\"z{texture}.{n}\"\n",
    "\n",
    "                z = dataset[(dataset['Pattern'] == name) & \n",
    "                            (dataset['Printer'] == printer) & \n",
    "                            (dataset['Pressure'] == \"p30\") & \n",
    "                            (dataset['Filament'] == filament)]\n",
    "                indices = np.array(z['Index']).astype(np.uint8)\n",
    "                frames = X[indices]\n",
    "                if len(frames) > 0:\n",
    "                    frames = frames.reshape((2,25,*frames.shape[2:]))\n",
    "                    list_parts.append(frames)\n",
    "\n",
    "            if len(list_parts) > 0:\n",
    "                list_parts = np.array(list_parts)\n",
    "                pattern_means[texture] = list_parts.mean(axis=0)\n",
    "\n",
    "        # now compute pairwise variances\n",
    "        textures = list(pattern_means.keys())\n",
    "        for t1 in textures:\n",
    "            for t2 in textures:\n",
    "                if t1 != t2:\n",
    "                    diff = np.var(pattern_means[t1] - pattern_means[t2])\n",
    "                    matrix_variance_pairs[i, j, t1, t2] = diff\n",
    "\n",
    "print(matrix_variance_pairs.shape)  # (filaments, printers, 6, 6)"
   ]
  },
  {
   "cell_type": "code",
   "execution_count": 86,
   "metadata": {},
   "outputs": [
    {
     "data": {
      "image/png": "[encoded data removed]",
      "text/plain": [
       "<Figure size 640x480 with 1 Axes>"
      ]
     },
     "metadata": {},
     "output_type": "display_data"
    }
   ],
   "source": [
    "import matplotlib.pyplot as plt \n",
    "\n",
    "plt.imshow(matrix_variance_pairs[0][0],cmap=\"inferno\")\n",
    "plt.xticks([i for i in range(6)],[\"Texture \"+str(i) for i in range(6)],rotation=45)\n",
    "plt.yticks([i for i in range(6)],[\"Texture \"+str(i) for i in range(6)])\n",
    "plt.title(\"Map of variance pre texture averaged over trials and blocks\")\n",
    "plt.colorbar()\n",
    "plt.show()"
   ]
  }
 ],
 "metadata": {
  "kernelspec": {
   "display_name": "Python 3",
   "language": "python",
   "name": "python3"
  },
  "language_info": {
   "codemirror_mode": {
    "name": "ipython",
    "version": 3
   },
   "file_extension": ".py",
   "mimetype": "text/x-python",
   "name": "python",
   "nbconvert_exporter": "python",
   "pygments_lexer": "ipython3",
   "version": "3.10.12"
  },
  "orig_nbformat": 4
 },
 "nbformat": 4,
 "nbformat_minor": 2
}
