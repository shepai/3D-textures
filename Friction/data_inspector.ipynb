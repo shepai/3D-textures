{
 "cells": [
  {
   "cell_type": "markdown",
   "id": "e6a63caf",
   "metadata": {},
   "source": [
    "# view the data gathered"
   ]
  },
  {
   "cell_type": "code",
   "execution_count": 27,
   "id": "38407edd",
   "metadata": {},
   "outputs": [],
   "source": [
    "import pandas as pd \n",
    "import numpy as np\n",
    "import matplotlib.pyplot as plt\n",
    "datapath=\"C:/Users/dexte/Documents/GitHub/3D-textures/\"\n",
    "\n",
    "def get_friction(trial1_forces,trial2_forces,trial3_forces,mass):\n",
    "    mass=mass/1000 #convert to kg\n",
    "    all_forces = trial1_forces[10:-10] + trial2_forces[10:-10] + trial3_forces[10:-10]\n",
    "    avg_force = np.mean(all_forces)\n",
    "\n",
    "    # Compute normal force (assuming gravity = 9.81 m/s²)\n",
    "    normal_force = mass * 9.81\n",
    "\n",
    "    # Return coefficient of friction\n",
    "    mu = avg_force / normal_force\n",
    "    return mu"
   ]
  },
  {
   "cell_type": "code",
   "execution_count": 35,
   "id": "752cd6ba",
   "metadata": {},
   "outputs": [],
   "source": [
    "import pandas as pd \n",
    "import numpy as np\n",
    "import matplotlib.pyplot as plt\n",
    "import os\n",
    "datapath=\"C:/Users/dexte/Documents/GitHub/3D-textures/\"\n",
    "\n",
    "def get_friction(trial1_forces,trial2_forces,trial3_forces,mass):\n",
    "    mass=mass/1000 #convert to kg\n",
    "    gf_to_N = lambda arr: [f * 0.00981 for f in arr]\n",
    "    all_forces = gf_to_N(trial1_forces[10:-5]) + gf_to_N(trial2_forces[10:-5]) + gf_to_N(trial3_forces[10:-5])\n",
    "    avg_force = np.mean(all_forces)\n",
    "\n",
    "    # Compute normal force (assuming gravity = 9.81 m/s²)\n",
    "    normal_force = mass * 9.81\n",
    "\n",
    "    # Return coefficient of friction\n",
    "    mu = avg_force / normal_force\n",
    "    return mu"
   ]
  },
  {
   "cell_type": "markdown",
   "id": "0999d322",
   "metadata": {},
   "source": [
    "## load in"
   ]
  },
  {
   "cell_type": "code",
   "execution_count": 38,
   "id": "3951a93a",
   "metadata": {},
   "outputs": [],
   "source": [
    "def get_info(file):\n",
    "    name=file.split(\"/\")[-1]\n",
    "    meta=name.split(\"_\")\n",
    "    texture=meta[1]\n",
    "    mass=float(meta[2].replace(\".csv\",\"\"))\n",
    "    df=pd.read_csv(file)\n",
    "    friction=get_friction(df['Trial 1 Force'],df['Trial 2 Force'],df['Trial 3 Force'],mass)\n",
    "    return df, friction,texture\n",
    "\n"
   ]
  },
  {
   "cell_type": "code",
   "execution_count": 45,
   "id": "4e88dfe8",
   "metadata": {},
   "outputs": [
    {
     "name": "stdout",
     "output_type": "stream",
     "text": [
      "  Textures  Frictions\n",
      "0   carpet   0.099150\n",
      "1     cork   0.274675\n",
      "2    GFoam   0.296100\n",
      "3   weight        NaN\n"
     ]
    },
    {
     "name": "stderr",
     "output_type": "stream",
     "text": [
      "c:\\Users\\dexte\\AppData\\Local\\Programs\\Python\\Python310\\lib\\site-packages\\numpy\\core\\fromnumeric.py:3432: RuntimeWarning: Mean of empty slice.\n",
      "  return _methods._mean(a, axis=axis, dtype=dtype,\n",
      "c:\\Users\\dexte\\AppData\\Local\\Programs\\Python\\Python310\\lib\\site-packages\\numpy\\core\\_methods.py:190: RuntimeWarning: invalid value encountered in double_scalars\n",
      "  ret = ret.dtype.type(ret / rcount)\n"
     ]
    }
   ],
   "source": [
    "directory=datapath+\"Friction/data/\"\n",
    "files = [f for f in os.listdir(directory) if os.path.isfile(os.path.join(directory, f))]\n",
    "\n",
    "d={\"Textures\":[],\"Frictions\":[]}\n",
    "\n",
    "for file in files:\n",
    "    df,friction,texture=get_info(directory+file)\n",
    "    d[\"Textures\"].append(texture)\n",
    "    d[\"Frictions\"].append(friction)\n",
    "\n",
    "d=pd.DataFrame(d)\n",
    "print(d)"
   ]
  }
 ],
 "metadata": {
  "kernelspec": {
   "display_name": "Python 3",
   "language": "python",
   "name": "python3"
  },
  "language_info": {
   "codemirror_mode": {
    "name": "ipython",
    "version": 3
   },
   "file_extension": ".py",
   "mimetype": "text/x-python",
   "name": "python",
   "nbconvert_exporter": "python",
   "pygments_lexer": "ipython3",
   "version": "3.10.7"
  }
 },
 "nbformat": 4,
 "nbformat_minor": 5
}
