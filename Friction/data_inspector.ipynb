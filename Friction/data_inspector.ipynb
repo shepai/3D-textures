{
 "cells": [
  {
   "cell_type": "markdown",
   "id": "e6a63caf",
   "metadata": {},
   "source": [
    "# view the data gathered"
   ]
  },
  {
   "cell_type": "code",
   "execution_count": 64,
   "id": "752cd6ba",
   "metadata": {},
   "outputs": [],
   "source": [
    "import pandas as pd \n",
    "import numpy as np\n",
    "import matplotlib.pyplot as plt\n",
    "import os\n",
    "datapath=\"C:/Users/dexte/Documents/GitHub/3D-textures/\"\n",
    "\n",
    "def get_friction(trial1_forces,trial2_forces,trial3_forces,mass):\n",
    "    mass=mass/1000 #convert to kg\n",
    "    gf_to_N = lambda arr: [f * 0.00981 for f in arr]\n",
    "    all_forces = np.concatenate([gf_to_N(trial1_forces[10:-5]),gf_to_N(trial2_forces[10:-5]),gf_to_N(trial3_forces[10:-5])]).reshape((3,len(gf_to_N(trial1_forces[10:-5]))))\n",
    "    avg_force = np.max(all_forces,axis=0)\n",
    "    error = np.std(avg_force)\n",
    "    avg_force = np.max(avg_force)\n",
    "    # Compute normal force (assuming gravity = 9.81 m/s²)\n",
    "    normal_force = mass * 9.81\n",
    "\n",
    "    # Return coefficient of friction\n",
    "    mu = avg_force / normal_force\n",
    "    return mu, error"
   ]
  },
  {
   "cell_type": "markdown",
   "id": "0999d322",
   "metadata": {},
   "source": [
    "## load in"
   ]
  },
  {
   "cell_type": "code",
   "execution_count": 65,
   "id": "3951a93a",
   "metadata": {},
   "outputs": [],
   "source": [
    "def get_info(file):\n",
    "    name=file.split(\"/\")[-1]\n",
    "    meta=name.split(\"_\")\n",
    "    texture=meta[1]\n",
    "    mass=float(meta[2].replace(\".csv\",\"\"))\n",
    "    df=pd.read_csv(file)\n",
    "    friction,error=get_friction(df['Trial 1 Force'],df['Trial 2 Force'],df['Trial 3 Force'],mass)\n",
    "    return df, friction,texture,error\n",
    "\n"
   ]
  },
  {
   "cell_type": "code",
   "execution_count": 66,
   "id": "4e88dfe8",
   "metadata": {},
   "outputs": [
    {
     "name": "stdout",
     "output_type": "stream",
     "text": [
      "  Textures  Frictions     Error\n",
      "0   carpet   0.339530  0.043743\n",
      "1   carpet   0.350816  0.025686\n",
      "2     cork   0.301500  0.013531\n",
      "3    Efoam   0.362364  0.024953\n",
      "4    Gfoam   0.114554  0.032390\n",
      "5  leather   0.466140  0.045772\n"
     ]
    }
   ],
   "source": [
    "directory=datapath+\"Friction/data/\"\n",
    "files = [f for f in os.listdir(directory) if os.path.isfile(os.path.join(directory, f))]\n",
    "\n",
    "d={\"Textures\":[],\"Frictions\":[],\"Error\":[]}\n",
    "\n",
    "for file in files:\n",
    "    df,friction,texture,error=get_info(directory+file)\n",
    "    d[\"Textures\"].append(texture)\n",
    "    d[\"Frictions\"].append(friction)\n",
    "    d['Error'].append(error)\n",
    "\n",
    "d=pd.DataFrame(d)\n",
    "print(d)"
   ]
  },
  {
   "cell_type": "markdown",
   "id": "bf5f25b2",
   "metadata": {},
   "source": [
    "## visualise"
   ]
  },
  {
   "cell_type": "code",
   "execution_count": 67,
   "id": "533b3138",
   "metadata": {},
   "outputs": [
    {
     "ename": "ValueError",
     "evalue": "too many values to unpack (expected 3)",
     "output_type": "error",
     "traceback": [
      "\u001b[1;31m---------------------------------------------------------------------------\u001b[0m",
      "\u001b[1;31mValueError\u001b[0m                                Traceback (most recent call last)",
      "Cell \u001b[1;32mIn [67], line 2\u001b[0m\n\u001b[0;32m      1\u001b[0m \u001b[38;5;28;01mfor\u001b[39;00m file \u001b[38;5;129;01min\u001b[39;00m files:\n\u001b[1;32m----> 2\u001b[0m     df,friction,texture\u001b[38;5;241m=\u001b[39mget_info(directory\u001b[38;5;241m+\u001b[39mfile)\n\u001b[0;32m      3\u001b[0m     average\u001b[38;5;241m=\u001b[39mnp\u001b[38;5;241m.\u001b[39maverage(df[[\u001b[38;5;124m'\u001b[39m\u001b[38;5;124mTrial 1 Force\u001b[39m\u001b[38;5;124m'\u001b[39m,\u001b[38;5;124m'\u001b[39m\u001b[38;5;124mTrial 2 Force\u001b[39m\u001b[38;5;124m'\u001b[39m,\u001b[38;5;124m'\u001b[39m\u001b[38;5;124mTrial 3 Force\u001b[39m\u001b[38;5;124m'\u001b[39m]],axis\u001b[38;5;241m=\u001b[39m\u001b[38;5;241m1\u001b[39m)\n\u001b[0;32m      4\u001b[0m     plt\u001b[38;5;241m.\u001b[39mplot(average,label\u001b[38;5;241m=\u001b[39mtexture)\n",
      "\u001b[1;31mValueError\u001b[0m: too many values to unpack (expected 3)"
     ]
    }
   ],
   "source": [
    "for file in files:\n",
    "    df,friction,texture=get_info(directory+file)\n",
    "    average=np.average(df[['Trial 1 Force','Trial 2 Force','Trial 3 Force']],axis=1)\n",
    "    plt.plot(average,label=texture)\n",
    "plt.legend(loc=\"lower right\")\n",
    "plt.tight_layout()\n",
    "plt.show()"
   ]
  }
 ],
 "metadata": {
  "kernelspec": {
   "display_name": "Python 3",
   "language": "python",
   "name": "python3"
  },
  "language_info": {
   "codemirror_mode": {
    "name": "ipython",
    "version": 3
   },
   "file_extension": ".py",
   "mimetype": "text/x-python",
   "name": "python",
   "nbconvert_exporter": "python",
   "pygments_lexer": "ipython3",
   "version": "3.10.7"
  }
 },
 "nbformat": 4,
 "nbformat_minor": 5
}
